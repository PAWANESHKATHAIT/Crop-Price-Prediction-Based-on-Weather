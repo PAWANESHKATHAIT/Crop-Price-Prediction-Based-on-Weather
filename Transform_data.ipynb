{
 "cells": [
  {
   "cell_type": "code",
   "execution_count": 1,
   "id": "23a45679-8a80-4411-ad63-a17f3aa9b910",
   "metadata": {},
   "outputs": [],
   "source": [
    "import pandas as pd"
   ]
  },
  {
   "cell_type": "code",
   "execution_count": 3,
   "id": "87df63b6-c259-4d2e-9603-d7ae007dace1",
   "metadata": {},
   "outputs": [],
   "source": [
    "df = pd.read_csv(\"movies_details.csv\")"
   ]
  },
  {
   "cell_type": "code",
   "execution_count": 4,
   "id": "b4038fa4-5f89-46a7-9bac-70313877cb68",
   "metadata": {},
   "outputs": [
    {
     "name": "stdout",
     "output_type": "stream",
     "text": [
      "<class 'pandas.core.frame.DataFrame'>\n",
      "RangeIndex: 8233 entries, 0 to 8232\n",
      "Data columns (total 27 columns):\n",
      " #   Column                 Non-Null Count  Dtype  \n",
      "---  ------                 --------------  -----  \n",
      " 0   Unnamed: 0             8233 non-null   int64  \n",
      " 1   adult                  8233 non-null   bool   \n",
      " 2   backdrop_path          7288 non-null   object \n",
      " 3   belongs_to_collection  1650 non-null   object \n",
      " 4   budget                 8233 non-null   int64  \n",
      " 5   genres                 8233 non-null   object \n",
      " 6   homepage               1478 non-null   object \n",
      " 7   id                     8233 non-null   int64  \n",
      " 8   imdb_id                8159 non-null   object \n",
      " 9   origin_country         8233 non-null   object \n",
      " 10  original_language      8233 non-null   object \n",
      " 11  original_title         8233 non-null   object \n",
      " 12  overview               7788 non-null   object \n",
      " 13  popularity             8233 non-null   float64\n",
      " 14  poster_path            7928 non-null   object \n",
      " 15  production_companies   8233 non-null   object \n",
      " 16  production_countries   8233 non-null   object \n",
      " 17  release_date           8227 non-null   object \n",
      " 18  revenue                8233 non-null   int64  \n",
      " 19  runtime                8233 non-null   int64  \n",
      " 20  spoken_languages       8233 non-null   object \n",
      " 21  status                 8233 non-null   object \n",
      " 22  tagline                5406 non-null   object \n",
      " 23  title                  8233 non-null   object \n",
      " 24  video                  8233 non-null   bool   \n",
      " 25  vote_average           8233 non-null   float64\n",
      " 26  vote_count             8233 non-null   int64  \n",
      "dtypes: bool(2), float64(2), int64(6), object(17)\n",
      "memory usage: 1.6+ MB\n"
     ]
    }
   ],
   "source": [
    "df.info()"
   ]
  },
  {
   "cell_type": "code",
   "execution_count": 6,
   "id": "517c965c-78a2-4849-8510-165afc1b5b4e",
   "metadata": {},
   "outputs": [
    {
     "data": {
      "text/plain": [
       "Unnamed: 0                  0\n",
       "adult                       0\n",
       "backdrop_path             945\n",
       "belongs_to_collection    6583\n",
       "budget                      0\n",
       "genres                      0\n",
       "homepage                 6755\n",
       "id                          0\n",
       "imdb_id                    74\n",
       "origin_country              0\n",
       "original_language           0\n",
       "original_title              0\n",
       "overview                  445\n",
       "popularity                  0\n",
       "poster_path               305\n",
       "production_companies        0\n",
       "production_countries        0\n",
       "release_date                6\n",
       "revenue                     0\n",
       "runtime                     0\n",
       "spoken_languages            0\n",
       "status                      0\n",
       "tagline                  2827\n",
       "title                       0\n",
       "video                       0\n",
       "vote_average                0\n",
       "vote_count                  0\n",
       "dtype: int64"
      ]
     },
     "execution_count": 6,
     "metadata": {},
     "output_type": "execute_result"
    }
   ],
   "source": [
    "df.isnull().sum()"
   ]
  },
  {
   "cell_type": "code",
   "execution_count": null,
   "id": "dac2824b-ca66-4ac8-84c3-634235dcca8f",
   "metadata": {},
   "outputs": [],
   "source": []
  }
 ],
 "metadata": {
  "kernelspec": {
   "display_name": "Python 3 (ipykernel)",
   "language": "python",
   "name": "python3"
  },
  "language_info": {
   "codemirror_mode": {
    "name": "ipython",
    "version": 3
   },
   "file_extension": ".py",
   "mimetype": "text/x-python",
   "name": "python",
   "nbconvert_exporter": "python",
   "pygments_lexer": "ipython3",
   "version": "3.11.7"
  }
 },
 "nbformat": 4,
 "nbformat_minor": 5
}
