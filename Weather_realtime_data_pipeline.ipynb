{
 "cells": [
  {
   "cell_type": "code",
   "execution_count": 2,
   "id": "7c3496b3-de87-43bf-9517-6252a909a778",
   "metadata": {},
   "outputs": [],
   "source": [
    "import requests\n",
    "import pandas as pd\n",
    "from datetime import datetime\n",
    "import schedule\n",
    "import time"
   ]
  },
  {
   "cell_type": "code",
   "execution_count": 2,
   "id": "dbbb47ad-5dff-4cc4-a64c-c2ab2fda37a9",
   "metadata": {},
   "outputs": [],
   "source": [
    "# Initialize a DataFrame to store weather data\n",
    "weather_df = pd.DataFrame(columns=['timestamp', 'city', 'temperature', 'humidity', 'pressure', 'weather', 'wind_speed', 'season'])"
   ]
  },
  {
   "cell_type": "code",
   "execution_count": 3,
   "id": "95a2fa3d-fe98-48bb-93ce-698ab0701579",
   "metadata": {},
   "outputs": [],
   "source": [
    "# Your OpenWeatherMap API key\n",
    "api_key = '429e6570bf176b57734d33f03e17ea4a'\n",
    "# List of cities you want to fetch weather data for\n",
    "cities = ['Delhi', 'Mumbai', 'Bangalore']"
   ]
  },
  {
   "cell_type": "code",
   "execution_count": 4,
   "id": "7f426e7f-3cd3-4074-a104-2546485e3c3d",
   "metadata": {},
   "outputs": [
    {
     "name": "stdout",
     "output_type": "stream",
     "text": [
      "Weather in Delhi: 35.05°C, haze\n",
      "Weather in Mumbai: 30.99°C, haze\n",
      "Weather in Bangalore: 29.99°C, broken clouds\n"
     ]
    }
   ],
   "source": [
    "# Function to fetch weather data\n",
    "def fetch_weather(city, api_key):\n",
    "    url = f\"http://api.openweathermap.org/data/2.5/weather?q={city}&appid={api_key}&units=metric\"\n",
    "    response = requests.get(url)\n",
    "    if response.status_code == 200:\n",
    "        return response.json()\n",
    "    else:\n",
    "        print(f\"Error fetching data for {city}: {response.status_code}\")\n",
    "        return None\n",
    "\n",
    "# Fetch weather data for each city and print results\n",
    "for city in cities:\n",
    "    weather_data = fetch_weather(city, api_key)\n",
    "    if weather_data:\n",
    "        print(f\"Weather in {city}: {weather_data['main']['temp']}°C, {weather_data['weather'][0]['description']}\")"
   ]
  },
  {
   "cell_type": "code",
   "execution_count": 5,
   "id": "a6a869d8-7d0d-4a00-b857-e7fc39490689",
   "metadata": {},
   "outputs": [],
   "source": [
    "# Function to determine the current season based on Indian weather\n",
    "def get_current_season():\n",
    "    month = datetime.now().month\n",
    "    if month in [12, 1, 2, 3]:  # Winter: December to early April\n",
    "        return 'Winter'\n",
    "    elif month in [4, 5, 6]:    # Summer or pre-monsoon: April to June (or July in NW India)\n",
    "        return 'Summer'\n",
    "    elif month in [7, 8, 9]:    # Monsoon or rainy: June to September\n",
    "        return 'Monsoon'\n",
    "    else:                       # Post-monsoon: October to December\n",
    "        return 'Post-monsoon'\n"
   ]
  },
  {
   "cell_type": "code",
   "execution_count": 6,
   "id": "12aab646-37f2-4462-bbc5-f50a6e027beb",
   "metadata": {},
   "outputs": [
    {
     "name": "stderr",
     "output_type": "stream",
     "text": [
      "C:\\Users\\pawan\\AppData\\Local\\Temp\\ipykernel_14540\\2422838524.py:17: FutureWarning: The behavior of DataFrame concatenation with empty or all-NA entries is deprecated. In a future version, this will no longer exclude empty or all-NA columns when determining the result dtypes. To retain the old behavior, exclude the relevant entries before the concat operation.\n",
      "  weather_df = pd.concat([weather_df, new_data], ignore_index=True)\n"
     ]
    },
    {
     "name": "stdout",
     "output_type": "stream",
     "text": [
      "Updated weather DataFrame:\n",
      "                   timestamp       city  temperature humidity pressure  \\\n",
      "0 2024-10-02 16:53:07.146900      Delhi        35.05       41     1001   \n",
      "1 2024-10-02 16:53:07.481456     Mumbai        30.99       74     1007   \n",
      "2 2024-10-02 16:53:07.813644  Bangalore        29.99       55     1007   \n",
      "\n",
      "         weather  wind_speed        season  \n",
      "0           haze        4.12  Post-monsoon  \n",
      "1           haze        4.63  Post-monsoon  \n",
      "2  broken clouds        2.22  Post-monsoon  \n",
      "Final DataFrame:\n",
      "                   timestamp       city  temperature humidity pressure  \\\n",
      "0 2024-10-02 16:53:07.146900      Delhi        35.05       41     1001   \n",
      "1 2024-10-02 16:53:07.481456     Mumbai        30.99       74     1007   \n",
      "2 2024-10-02 16:53:07.813644  Bangalore        29.99       55     1007   \n",
      "\n",
      "         weather  wind_speed        season  \n",
      "0           haze        4.12  Post-monsoon  \n",
      "1           haze        4.63  Post-monsoon  \n",
      "2  broken clouds        2.22  Post-monsoon  \n"
     ]
    }
   ],
   "source": [
    "# Function to update weather DataFrame and save to CSV\n",
    "def job():\n",
    "    global weather_df\n",
    "    for city in cities:\n",
    "        weather_data = fetch_weather(city, api_key)\n",
    "        if weather_data is not None:\n",
    "            new_data = pd.DataFrame([{\n",
    "                \"timestamp\": datetime.now(),\n",
    "                \"city\": city,\n",
    "                \"temperature\": weather_data['main']['temp'],\n",
    "                \"humidity\": weather_data['main']['humidity'],\n",
    "                \"pressure\": weather_data['main']['pressure'],\n",
    "                \"weather\": weather_data['weather'][0]['description'],\n",
    "                \"wind_speed\": weather_data['wind']['speed'],\n",
    "                \"season\": get_current_season()\n",
    "            }])\n",
    "            weather_df = pd.concat([weather_df, new_data], ignore_index=True)\n",
    "\n",
    "    # Save the DataFrame to CSV\n",
    "    weather_df.to_csv('weather_data.csv', index=False)\n",
    "    print(\"Updated weather DataFrame:\")\n",
    "    print(weather_df)\n",
    "\n",
    "# For testing purposes, run the job function\n",
    "job()\n",
    "print(\"Final DataFrame:\")\n",
    "print(weather_df)"
   ]
  },
  {
   "cell_type": "code",
   "execution_count": 7,
   "id": "e5028cb0-5b6b-4851-b5fd-1710ad9dea63",
   "metadata": {},
   "outputs": [
    {
     "data": {
      "text/plain": [
       "Every 1 day at 08:00:00 do job() (last run: [never], next run: 2024-10-03 08:00:00)"
      ]
     },
     "execution_count": 7,
     "metadata": {},
     "output_type": "execute_result"
    }
   ],
   "source": [
    "# Function to schedule the job\n",
    "schedule.every().day.at(\"08:00\").do(job)  # Set to run daily at 08:00 AM"
   ]
  },
  {
   "cell_type": "code",
   "execution_count": null,
   "id": "fc0bf8ca-76d8-4a86-af5e-96d5b34744f0",
   "metadata": {},
   "outputs": [],
   "source": [
    "# Run the scheduled jobs\n",
    "while True:\n",
    "    schedule.run_pending()\n",
    "    time.sleep(1)  # Wait for one second before checking again"
   ]
  }
 ],
 "metadata": {
  "kernelspec": {
   "display_name": "Python 3 (ipykernel)",
   "language": "python",
   "name": "python3"
  },
  "language_info": {
   "codemirror_mode": {
    "name": "ipython",
    "version": 3
   },
   "file_extension": ".py",
   "mimetype": "text/x-python",
   "name": "python",
   "nbconvert_exporter": "python",
   "pygments_lexer": "ipython3",
   "version": "3.11.7"
  }
 },
 "nbformat": 4,
 "nbformat_minor": 5
}
